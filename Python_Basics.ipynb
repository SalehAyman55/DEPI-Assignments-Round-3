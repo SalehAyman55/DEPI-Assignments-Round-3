{
 "cells": [
  {
   "cell_type": "markdown",
   "id": "628b41ca-da1b-4b71-af77-990b5cde7ba0",
   "metadata": {},
   "source": [
    "**Q1** **Task 1: Grade Calculator _**\n",
    "\n",
    "**· Concept Focus: Input, basic arithmetic, if/elif/else conditions.**\n",
    "\n",
    "**· Description: Write a program that asks the user to enter a student's score (out of 100). Based on the score, print their grade:**\n",
    "\n",
    "**o 90-100: A**\n",
    "\n",
    "**o 80-89: B**\n",
    "\n",
    "**o 70-79: C**\n",
    "\n",
    "**o 60-69: D**\n",
    "\n",
    "**o Below 60: F**"
   ]
  },
  {
   "cell_type": "code",
   "execution_count": 2,
   "id": "2fa0733f-b555-4f48-9cde-055eca8dd6ff",
   "metadata": {},
   "outputs": [
    {
     "name": "stdin",
     "output_type": "stream",
     "text": [
      "Enter Your Grade 95\n"
     ]
    },
    {
     "name": "stdout",
     "output_type": "stream",
     "text": [
      "A\n"
     ]
    }
   ],
   "source": [
    "i = int(input(\"Enter Your Grade\"))\n",
    "if i>=0 and i<=100 :\n",
    "    if i >= 90 and i <= 100:\n",
    "        print(\"A\")\n",
    "    elif i >= 80 and i <= 89:\n",
    "        print(\"B\")\n",
    "    elif i >= 70 and i <= 79:\n",
    "        print(\"C\")\n",
    "    elif i >= 60 and i <= 69:\n",
    "        print(\"D\")\n",
    "    else:\n",
    "        print(\"F\")\n",
    "else:\n",
    "    print(\"Enter Valid Number Between 0 And 100\")"
   ]
  },
  {
   "cell_type": "markdown",
   "id": "826b133d-c4f9-4972-8ecd-49cc86edf291",
   "metadata": {},
   "source": [
    "**Task 2: List Manipulator _**  \n",
    "**• Concept Focus: Lists, for loop, list methods (append, sum, max, min).**  \n",
    "**• Description:**  \n",
    "**1. Create an empty list called numbers.**  \n",
    "**2. Use a for loop to ask the user to enter 5 numbers, one by one. Add each number to the numbers list.**  \n",
    "**3. After collecting all numbers, print:**  \n",
    "** The sum of all numbers in the list.**  \n",
    "** The average of the numbers.**  \n",
    "** The largest number in the list.**  \n",
    "** The smallest number in the list.**  "
   ]
  },
  {
   "cell_type": "code",
   "execution_count": 3,
   "id": "35c73b3a-e401-4741-9957-44ae06f99385",
   "metadata": {},
   "outputs": [
    {
     "name": "stdin",
     "output_type": "stream",
     "text": [
      "Enter Numbers 10\n",
      "Enter Numbers 50\n",
      "Enter Numbers 6\n",
      "Enter Numbers 12\n",
      "Enter Numbers 4\n"
     ]
    },
    {
     "name": "stdout",
     "output_type": "stream",
     "text": [
      "Max Number Is  50\n",
      "Min Number Is  4\n",
      "sum Number Is  82\n",
      "Avarage Number Is  16.4\n"
     ]
    }
   ],
   "source": [
    "numbers = []\n",
    "for i in range(5):\n",
    "    numbers.append(int(input(\"Enter Numbers\")))\n",
    "print (\"Max Number Is \",max(numbers))\n",
    "print (\"Min Number Is \",min(numbers))\n",
    "print (\"sum Number Is \",sum(numbers))\n",
    "avarage=sum(numbers)/len(numbers)\n",
    "print (\"Avarage Number Is \",avarage)\n"
   ]
  },
  {
   "cell_type": "markdown",
   "id": "0375bdb4-10d6-4009-9a20-1c0986e67925",
   "metadata": {},
   "source": [
    "**Task 3: Word Counter _**  \n",
    "**• Concept Focus: Strings, split() method, dictionaries, for loop, conditional logic for dictionary updates.**  \n",
    "**• Description: Write a function word_count(sentence) that takes a string (a sentence) as input. The function should return a dictionary where keys are the words in the sentence and values are the counts of how many times each word appears.**  \n",
    "**• Example: word_count(\"this is a test this is only a test\") should return {'this': 2, 'is': 2, 'a': 2, 'test': 2, 'only': 1}. (You can ignore case sensitivity for this task, e.g., \"The\" and \"the\" can be treated as different words).**  "
   ]
  },
  {
   "cell_type": "code",
   "execution_count": 16,
   "id": "f4977f61-102d-4044-b3f4-bdf50a2c631c",
   "metadata": {},
   "outputs": [
    {
     "name": "stdin",
     "output_type": "stream",
     "text": [
      "Enter The String (sentence) Saleh Ayman Saleh\n"
     ]
    },
    {
     "name": "stdout",
     "output_type": "stream",
     "text": [
      "{'Saleh': 2, 'Ayman': 1}\n"
     ]
    }
   ],
   "source": [
    "def word_count(sentence):\n",
    "    words = sentence.split()\n",
    "    count_dict = {}\n",
    "    for word in words:\n",
    "        if word in count_dict:\n",
    "            count_dict[word] += 1\n",
    "        else:\n",
    "            count_dict[word] = 1\n",
    "    return count_dict\n",
    "user_input = input(\"Enter The String (sentence)\")\n",
    "result = word_count(user_input)\n",
    "print(result)\n"
   ]
  },
  {
   "cell_type": "markdown",
   "id": "366bb739-0045-4c99-a3e8-580a6cd5a208",
   "metadata": {},
   "source": [
    "**Task 4: Prime Number Checker _**  \n",
    "**• Concept Focus: Functions, for loop, if/else, modulo operator (%).**  \n",
    "**• Description: Write a function is_prime(number) that takes an integer as input. The function should return True if the number is prime, and False otherwise. A prime number is a natural number greater than 1 that has no positive divisors other than 1 and itself.**  \n"
   ]
  },
  {
   "cell_type": "code",
   "execution_count": 7,
   "id": "c5c202ba-9245-4bf0-a306-e2384722e7d1",
   "metadata": {},
   "outputs": [
    {
     "name": "stdin",
     "output_type": "stream",
     "text": [
      "Enter Number 17\n"
     ]
    },
    {
     "name": "stdout",
     "output_type": "stream",
     "text": [
      "Prime\n"
     ]
    }
   ],
   "source": [
    "number= int(input(\"Enter Number\"))\n",
    "def is_prime(number):\n",
    "    if number <= 1:\n",
    "        return False\n",
    "    for i in range(2, number):\n",
    "        if number % i == 0:\n",
    "            return False\n",
    "    return True\n",
    "if is_prime(number):\n",
    "    print(\"Prime\")\n",
    "else:\n",
    "    print(\"Not Prime\")"
   ]
  },
  {
   "cell_type": "markdown",
   "id": "861537d8-b36d-4768-897d-55bbdeb72d85",
   "metadata": {},
   "source": [
    "**Task 5: Simple Inventory System _**  \n",
    "**• Concept Focus: Dictionaries, while loop, if/elif/else, dictionary methods (get, updating values).**  \n",
    "**• Description: Create a simple inventory system using a dictionary. The dictionary inventory will store items as keys and their quantities as values (e.g., {'apple': 10, 'banana': 5}).**  \n",
    "**o Implement a while loop that continuously prompts the user for an action: add, remove, view, or exit.**  \n",
    "**o If the user types add: Ask for the item name and quantity to add. Update the inventory.**  \n",
    "**o If the user types remove: Ask for the item name and quantity to remove. Ensure you don't remove more than available. If removing all, delete the item from the dictionary.**  \n",
    "**o If the user types view: Print the current inventory (all items and their quantities).**  \n",
    "**o If the user types exit: Break the loop and end the program.**  \n"
   ]
  },
  {
   "cell_type": "code",
   "execution_count": 8,
   "id": "464c2af3-cddc-4d9b-b0b3-b6612108fa43",
   "metadata": {},
   "outputs": [
    {
     "name": "stdout",
     "output_type": "stream",
     "text": [
      "Choose 1 For Add 2 For Remove 3 For View 4 For Exit\n"
     ]
    },
    {
     "name": "stdin",
     "output_type": "stream",
     "text": [
      "Your choice 1\n"
     ]
    },
    {
     "name": "stdout",
     "output_type": "stream",
     "text": [
      " Add\n"
     ]
    },
    {
     "name": "stdin",
     "output_type": "stream",
     "text": [
      "Enter item name Cheeeeeeese\n",
      "Enter quantity 50\n"
     ]
    },
    {
     "name": "stdout",
     "output_type": "stream",
     "text": [
      "Choose 1 For Add 2 For Remove 3 For View 4 For Exit\n"
     ]
    },
    {
     "name": "stdin",
     "output_type": "stream",
     "text": [
      "Your choice 1\n"
     ]
    },
    {
     "name": "stdout",
     "output_type": "stream",
     "text": [
      " Add\n"
     ]
    },
    {
     "name": "stdin",
     "output_type": "stream",
     "text": [
      "Enter item name Milk\n",
      "Enter quantity 20\n"
     ]
    },
    {
     "name": "stdout",
     "output_type": "stream",
     "text": [
      "Choose 1 For Add 2 For Remove 3 For View 4 For Exit\n"
     ]
    },
    {
     "name": "stdin",
     "output_type": "stream",
     "text": [
      "Your choice 3\n"
     ]
    },
    {
     "name": "stdout",
     "output_type": "stream",
     "text": [
      " Inventory\n",
      "Cheeeeeeese: 50\n",
      "Milk: 20\n",
      "Choose 1 For Add 2 For Remove 3 For View 4 For Exit\n"
     ]
    },
    {
     "name": "stdin",
     "output_type": "stream",
     "text": [
      "Your choice 4\n"
     ]
    }
   ],
   "source": [
    "inventory = {}\n",
    "while True:\n",
    "    print(\"Choose 1 For Add 2 For Remove 3 For View 4 For Exit\")\n",
    "    c = int(input(\"Your choice\"))\n",
    "    if c == 1:\n",
    "        print(\" Add\")\n",
    "        name = input(\"Enter item name\")\n",
    "        quantity = int(input(\"Enter quantity\"))\n",
    "        if name in inventory:\n",
    "            inventory[name] += quantity\n",
    "        else:\n",
    "            inventory[name] = quantity\n",
    "    elif c == 2:\n",
    "        print(\" Remove\")\n",
    "        name = input(\"Enter name to remove\")\n",
    "        if name in inventory:\n",
    "            quantity = int(input(\"Enter quantity to remove\"))\n",
    "    elif c == 3:\n",
    "        print(\" Inventory\")\n",
    "        for item, quantity in inventory.items():\n",
    "            print(f\"{item}: {quantity}\")\n",
    "    elif c == 4:\n",
    "        break\n",
    "    else:\n",
    "        print(\"Please enter 1, 2, 3, or 4\")\n"
   ]
  },
  {
   "cell_type": "markdown",
   "id": "4fce15ad-9081-40ba-8c4e-ff51ed722585",
   "metadata": {},
   "source": [
    "**Task 6: List Comprehension Practice _**  \n",
    "**• Concept Focus: List comprehensions, conditional list comprehensions.**  \n",
    "**• Description:**  \n",
    "**1. Create a list of squares of numbers from 1 to 10 using a list comprehension. (e.g., [1, 4, 9, ...])**  \n",
    "**2. From a given list of numbers [12, 5, 23, 8, 17, 30], create a new list containing only the even numbers using a list comprehension.**  \n",
    "**3. Given a list of strings [\"apple\", \"banana\", \"cherry\", \"date\"], create a new list containing only the strings that have more than 5 characters, using a list comprehension.**  \n"
   ]
  },
  {
   "cell_type": "code",
   "execution_count": 9,
   "id": "01f2a4db-74e5-40c8-8d4e-6ab04366276a",
   "metadata": {},
   "outputs": [
    {
     "name": "stdout",
     "output_type": "stream",
     "text": [
      "Squares from 1 to 10: [1, 4, 9, 16, 25, 36, 49, 64, 81, 100]\n",
      "[12, 8, 30]\n",
      "['banana', 'cherry']\n"
     ]
    }
   ],
   "source": [
    "square = [x**2 for x in range(1, 11)]\n",
    "print(\"Squares from 1 to 10:\", square)\n",
    "number = [12, 5, 23, 8, 17, 30]\n",
    "even_number = []\n",
    "for x in number:\n",
    "    if x % 2 == 0:\n",
    "        even_number.append(x)\n",
    "print(even_number)\n",
    "fruits = [\"apple\", \"banana\", \"cherry\", \"date\"]\n",
    "fruits_5 = []\n",
    "for fruit in fruits:\n",
    "    if len(fruit) > 5:\n",
    "        fruits_5.append(fruit)\n",
    "print(fruits_5)\n"
   ]
  },
  {
   "cell_type": "markdown",
   "id": "e64852ce-81f9-4bcb-a9ba-61da7a008615",
   "metadata": {},
   "source": [
    "**Task 7: Tuple Operations (Beginner/Intermediate)**  \n",
    "**• Concept Focus: Tuples, functions returning tuples, unpacking tuples, basic iteration.**  \n",
    "**• Description:**  \n",
    "**1. Create a function get_coordinates() that asks the user for an X coordinate and a Y coordinate. The function should return these two coordinates as a tuple (e.g., (x, y)).**  \n",
    "**2. In your main program, call get_coordinates() and unpack the returned tuple into two separate variables. Print a message like \"The entered coordinates are X: [x_value], Y: [y_value]\".**  \n",
    "**3. Create a list of tuples, where each tuple represents a person's name and age (e.g., [(\"Alice\", 30), (\"Bob\", 25), (\"Charlie\", 35)]). Use a for loop to iterate through this list and print a sentence for each person, like \"Alice is 30 years old.\"**  "
   ]
  },
  {
   "cell_type": "code",
   "execution_count": 10,
   "id": "d871891e-530e-48d5-bf48-473d94e6be57",
   "metadata": {},
   "outputs": [
    {
     "name": "stdin",
     "output_type": "stream",
     "text": [
      "Enter X 10\n",
      "Enter Y 20\n",
      "Enter X 20\n",
      "Enter Y 40\n"
     ]
    },
    {
     "name": "stdout",
     "output_type": "stream",
     "text": [
      "X = (10, 20), Y = (20, 40)\n",
      "Alice is 30 years old.\n",
      "Bob is 25 years old.\n",
      "Charlie is 35 years old.\n"
     ]
    }
   ],
   "source": [
    "def get_coordinates():\n",
    "    x =int(input(\"Enter X\")) \n",
    "    y =int(input(\"Enter Y\")) \n",
    "    return (x,y)\n",
    "x_value=get_coordinates()\n",
    "y_value=get_coordinates()\n",
    "print(f\"X = {x_value}, Y = {y_value}\")\n",
    "l_of_tuples=[(\"Alice\", 30), (\"Bob\", 25), (\"Charlie\", 35)]\n",
    "for n, a in l_of_tuples:\n",
    "    print(f\"{n} is {a} years old.\")\n"
   ]
  },
  {
   "cell_type": "markdown",
   "id": "0ced1769-c74d-45df-999c-e6002f374359",
   "metadata": {},
   "source": [
    "**Task 8: Set Operations _**  \n",
    "**• Concept Focus: Sets, set methods (union, intersection, difference, add, remove).**  \n",
    "**• Description:**  \n",
    "**1. Create two sets of your choice, each containing at least 5 distinct elements (e.g., set1 = {1, 2, 3, 4, 5} and set2 = {4, 5, 6, 7, 8}).**  \n",
    "**2. Print the union of the two sets.**  \n",
    "**3. Print the intersection of the two sets.**  \n",
    "**4. Print the difference between set1 and set2 (elements in set1 but not in set2).**  \n",
    "**5. Add a new element to set1.**  \n",
    "**6. Remove an existing element from set2.**  \n",
    "**7. Print both sets after the modifications.**  "
   ]
  },
  {
   "cell_type": "code",
   "execution_count": 11,
   "id": "33f45250-9d21-4272-ad49-a164459986fa",
   "metadata": {},
   "outputs": [
    {
     "name": "stdout",
     "output_type": "stream",
     "text": [
      "Union =  {1, 2, 3, 4, 5, 6, 7, 8}\n",
      "Intersection =  {4, 5}\n",
      "Difference =  {1, 2, 3}\n",
      "After Editings =  {1, 2, 3, 4, 5, 18}\n",
      "After Editings =  {4, 5, 6, 8}\n"
     ]
    }
   ],
   "source": [
    "set1 = {1, 2, 3, 4, 5}\n",
    "set2 = {4, 5, 6, 7, 8}\n",
    "print(\"Union = \", set1 | set2)\n",
    "print(\"Intersection = \", set1 & set2)\n",
    "print(\"Difference = \", set1 - set2)\n",
    "set1.add(18)\n",
    "set2.remove(7)\n",
    "print(\"After Editings = \", set1)\n",
    "print(\"After Editings = \", set2)\n"
   ]
  },
  {
   "cell_type": "markdown",
   "id": "fd320d19-4215-48ce-84f7-ed0ec804846f",
   "metadata": {},
   "source": [
    "**Task 9: Simple Calculator Function _**  \n",
    "**• Concept Focus: Functions with multiple arguments, if/elif/else, basic arithmetic operators.**  \n",
    "**• Description: Write a function calculator(num1, num2, operation) that takes two numbers and a string representing the operation (\"add\", \"subtract\", \"multiply\", \"divide\") as input. The function should perform the specified operation and return the result. Handle the case of division by zero. If an invalid operation is given, return an appropriate message (e.g., \"Invalid operation\").**  "
   ]
  },
  {
   "cell_type": "code",
   "execution_count": 12,
   "id": "f1093544-9bdf-42e4-9667-fa11876c9295",
   "metadata": {},
   "outputs": [
    {
     "name": "stdin",
     "output_type": "stream",
     "text": [
      "Enter Num1 \n",
      " 20\n",
      "Enter Num2 \n",
      " 40\n",
      "Enter Operation a for add s for subtract m for multiply d for divide \n",
      " m\n"
     ]
    },
    {
     "name": "stdout",
     "output_type": "stream",
     "text": [
      "Multiply =  800\n"
     ]
    }
   ],
   "source": [
    "def calculator(num1, num2, operation):\n",
    "    if operation.lower()==\"a\":\n",
    "        print (\"Add = \",num1+num2)\n",
    "    elif operation.lower()==\"s\":\n",
    "        print (\"Subtract = \",abs(num1-num2))\n",
    "    elif operation.lower()==\"m\":\n",
    "        print (\"Multiply = \",num1*num2)\n",
    "    elif operation.lower()==\"d\":\n",
    "        if num2!=0:\n",
    "            print (\"Division = \",num1/num2)\n",
    "        else:\n",
    "            print (\"Wrong Operation Devition By Zero Has No Meaning \")\n",
    "    else:\n",
    "        print (\"Wrong Operation \")\n",
    "num1=int(input(\"Enter Num1 \\n\"))\n",
    "num2=int(input(\"Enter Num2 \\n\"))\n",
    "operation=input(\"Enter Operation a for add s for subtract m for multiply d for divide \\n\")\n",
    "calculator(num1, num2, operation)\n"
   ]
  },
  {
   "cell_type": "markdown",
   "id": "7278c107-1fb5-4e1a-a71f-8b0c6b4f80ef",
   "metadata": {},
   "source": [
    "**Task 10: User Authentication _**  \n",
    "**• Concept Focus: Dictionaries, functions, while loop, conditional logic, input validation.**  \n",
    "**• Description: Create a simple user authentication system.**  \n",
    "**1. Store user credentials in a dictionary, where keys are usernames and values are passwords (e.g., users = {'admin': 'password123', 'user1': 'abc456'}).**  \n",
    "**2. Write a function authenticate(username, password) that checks if the provided credentials match any in the users dictionary. It should return True for successful authentication and False otherwise.**  \n",
    "**3. In your main program, use a while loop to continuously prompt the user for a username and password.**  \n",
    "**4. If authentication is successful, print \"Login successful!\" and break the loop.**  \n",
    "**5. If authentication fails, print \"Invalid username or password. Please try again.\" and continue the loop. Allow for a maximum of 3 login attempts before exiting the program.**  "
   ]
  },
  {
   "cell_type": "code",
   "execution_count": 13,
   "id": "70f956e6-7767-4894-a081-4a69c3f54b42",
   "metadata": {},
   "outputs": [
    {
     "name": "stdin",
     "output_type": "stream",
     "text": [
      "Enter username:\n",
      " saleh\n",
      "Enter password:\n",
      " password\n"
     ]
    },
    {
     "name": "stdout",
     "output_type": "stream",
     "text": [
      "Login successful!\n"
     ]
    }
   ],
   "source": [
    "users = {'admin': 'password123','user1': 'abc456','saleh': 'password'}\n",
    "def authenticate(username, password):\n",
    "    return users.get(username) == password\n",
    "tries = 0\n",
    "max_tries = 3\n",
    "while tries < max_tries:\n",
    "    username = input(\"Enter username:\\n\")\n",
    "    password = input(\"Enter password:\\n\")\n",
    "    if authenticate(username, password):\n",
    "        print(\"Login successful!\")\n",
    "        break\n",
    "    else:\n",
    "        print(\"Wrong username or password.Try again.\")\n",
    "        tries += 1\n",
    "if tries == max_tries:\n",
    "    print(\"You Have Tried 3 Times\")\n"
   ]
  }
 ],
 "metadata": {
  "kernelspec": {
   "display_name": "Python 3 (ipykernel)",
   "language": "python",
   "name": "python3"
  },
  "language_info": {
   "codemirror_mode": {
    "name": "ipython",
    "version": 3
   },
   "file_extension": ".py",
   "mimetype": "text/x-python",
   "name": "python",
   "nbconvert_exporter": "python",
   "pygments_lexer": "ipython3",
   "version": "3.13.5"
  }
 },
 "nbformat": 4,
 "nbformat_minor": 5
}
