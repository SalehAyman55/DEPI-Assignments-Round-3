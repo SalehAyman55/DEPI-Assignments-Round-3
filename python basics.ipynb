{
 "cells": [
  {
   "cell_type": "code",
   "execution_count": 1,
   "id": "2fa0733f-b555-4f48-9cde-055eca8dd6ff",
   "metadata": {},
   "outputs": [
    {
     "name": "stdin",
     "output_type": "stream",
     "text": [
      "Enter Your Grade 50\n"
     ]
    },
    {
     "name": "stdout",
     "output_type": "stream",
     "text": [
      "F\n"
     ]
    }
   ],
   "source": [
    "i = int(input(\"Enter Your Grade\"))\n",
    "if i>=0 and i<=100 :\n",
    "    if i >= 90 and i <= 100:\n",
    "        print(\"A\")\n",
    "    elif i >= 80 and i <= 89:\n",
    "        print(\"B\")\n",
    "    elif i >= 70 and i <= 79:\n",
    "        print(\"C\")\n",
    "    elif i >= 60 and i <= 69:\n",
    "        print(\"D\")\n",
    "    else:\n",
    "        print(\"F\")\n",
    "else:\n",
    "    print(\"Enter Valid Number Between 0 And 100\")"
   ]
  },
  {
   "cell_type": "code",
   "execution_count": 2,
   "id": "35c73b3a-e401-4741-9957-44ae06f99385",
   "metadata": {},
   "outputs": [
    {
     "name": "stdin",
     "output_type": "stream",
     "text": [
      "Enter Numbers 10\n",
      "Enter Numbers 2\n",
      "Enter Numbers 2\n",
      "Enter Numbers 5\n",
      "Enter Numbers 5\n"
     ]
    },
    {
     "name": "stdout",
     "output_type": "stream",
     "text": [
      "Max Number Is  10\n",
      "Min Number Is  2\n",
      "sum Number Is  24\n",
      "Avarage Number Is  4.8\n"
     ]
    }
   ],
   "source": [
    "numbers = []\n",
    "for i in range(5):\n",
    "    numbers.append(int(input(\"Enter Numbers\")))\n",
    "print (\"Max Number Is \",max(numbers))\n",
    "print (\"Min Number Is \",min(numbers))\n",
    "print (\"sum Number Is \",sum(numbers))\n",
    "avarage=sum(numbers)/len(numbers)\n",
    "print (\"Avarage Number Is \",avarage)\n"
   ]
  },
  {
   "cell_type": "code",
   "execution_count": null,
   "id": "f4977f61-102d-4044-b3f4-bdf50a2c631c",
   "metadata": {},
   "outputs": [],
   "source": [
    "def word_count(sentence):\n",
    "    words = sentence.split()\n",
    "    count_dict = {}\n",
    "    for word in words:\n",
    "        if word in count_dict:\n",
    "            count_dict[word] += 1\n",
    "        else:\n",
    "            count_dict[word] = 1\n",
    "    return count_dict\n",
    "user_input = input(\"Enter The String (sentence)\")\n",
    "result = word_count(user_input)\n",
    "print(result)\n"
   ]
  },
  {
   "cell_type": "code",
   "execution_count": null,
   "id": "c5c202ba-9245-4bf0-a306-e2384722e7d1",
   "metadata": {},
   "outputs": [],
   "source": [
    "number= int(input(\"Enter Number\"))\n",
    "def is_prime(number):\n",
    "    if number <= 1:\n",
    "        return False\n",
    "    for i in range(2, number):\n",
    "        if number % i == 0:\n",
    "            return False\n",
    "    return True\n",
    "if is_prime(number):\n",
    "    print(\"Prime\")\n",
    "else:\n",
    "    print(\"Not Prime\")"
   ]
  },
  {
   "cell_type": "code",
   "execution_count": null,
   "id": "464c2af3-cddc-4d9b-b0b3-b6612108fa43",
   "metadata": {},
   "outputs": [],
   "source": [
    "inventory = {}\n",
    "while True:\n",
    "    print(\"Choose 1 For Add 2 For Remove 3 For View 4 For Exit\")\n",
    "    c = int(input(\"Your choice\"))\n",
    "    if c == 1:\n",
    "        print(\" Add\")\n",
    "        name = input(\"Enter item name\")\n",
    "        quantity = int(input(\"Enter quantity\"))\n",
    "        if name in inventory:\n",
    "            inventory[name] += quantity\n",
    "        else:\n",
    "            inventory[name] = quantity\n",
    "    elif c == 2:\n",
    "        print(\" Remove\")\n",
    "        name = input(\"Enter name to remove\")\n",
    "        if name in inventory:\n",
    "            quantity = int(input(\"Enter quantity to remove\"))\n",
    "    elif c == 3:\n",
    "        print(\" Inventory\")\n",
    "        for item, quantity in inventory.items():\n",
    "            print(f\"{item}: {quantity}\")\n",
    "    elif c == 4:\n",
    "        break\n",
    "    else:\n",
    "        print(\"Please enter 1, 2, 3, or 4\")\n"
   ]
  },
  {
   "cell_type": "code",
   "execution_count": null,
   "id": "01f2a4db-74e5-40c8-8d4e-6ab04366276a",
   "metadata": {},
   "outputs": [],
   "source": [
    "square = [x**2 for x in range(1, 11)]\n",
    "print(\"Squares from 1 to 10:\", square)\n",
    "number = [12, 5, 23, 8, 17, 30]\n",
    "even_number = []\n",
    "for x in number:\n",
    "    if x % 2 == 0:\n",
    "        even_number.append(x)\n",
    "print(even_number)\n",
    "fruits = [\"apple\", \"banana\", \"cherry\", \"date\"]\n",
    "fruits_5 = []\n",
    "for fruit in fruits:\n",
    "    if len(fruit) > 5:\n",
    "        fruits_5.append(fruit)\n",
    "print(fruits_5)\n"
   ]
  },
  {
   "cell_type": "code",
   "execution_count": null,
   "id": "d871891e-530e-48d5-bf48-473d94e6be57",
   "metadata": {},
   "outputs": [],
   "source": [
    "def get_coordinates():\n",
    "    x =int(input(\"Enter X\")) \n",
    "    y =int(input(\"Enter Y\")) \n",
    "    return (x,y)\n",
    "x_value=get_coordinates()\n",
    "y_value=get_coordinates()\n",
    "print(f\"X = {x_value}, Y = {y_value}\")\n",
    "l_of_tuples=[(\"Alice\", 30), (\"Bob\", 25), (\"Charlie\", 35)]\n",
    "for n, a in l_of_tuples:\n",
    "    print(f\"{n} is {a} years old.\")\n"
   ]
  },
  {
   "cell_type": "code",
   "execution_count": null,
   "id": "33f45250-9d21-4272-ad49-a164459986fa",
   "metadata": {},
   "outputs": [],
   "source": [
    "set1 = {1, 2, 3, 4, 5}\n",
    "set2 = {4, 5, 6, 7, 8}\n",
    "print(\"Union = \", set1 | set2)\n",
    "print(\"Intersection = \", set1 & set2)\n",
    "print(\"Difference = \", set1 - set2)\n",
    "set1.add(18)\n",
    "set2.remove(7)\n",
    "print(\"After Editings = \", set1)\n",
    "print(\"After Editings = \", set2)\n"
   ]
  },
  {
   "cell_type": "code",
   "execution_count": null,
   "id": "f1093544-9bdf-42e4-9667-fa11876c9295",
   "metadata": {},
   "outputs": [],
   "source": [
    "def calculator(num1, num2, operation):\n",
    "    if operation.lower()==\"a\":\n",
    "        print (\"Add = \",num1+num2)\n",
    "    elif operation.lower()==\"s\":\n",
    "        print (\"Subtract = \",abs(num1-num2))\n",
    "    elif operation.lower()==\"m\":\n",
    "        print (\"Multiply = \",num1*num2)\n",
    "    elif operation.lower()==\"d\":\n",
    "        if num2!=0:\n",
    "            print (\"Division = \",num1/num2)\n",
    "        else:\n",
    "            print (\"Wrong Operation Devition By Zero Has No Meaning \")\n",
    "    else:\n",
    "        print (\"Wrong Operation \")\n",
    "num1=int(input(\"Enter Num1 \\n\"))\n",
    "num2=int(input(\"Enter Num2 \\n\"))\n",
    "operation=input(\"Enter Operation a for add s for subtract m for multiply d for divide \\n\")\n",
    "calculator(num1, num2, operation)\n"
   ]
  },
  {
   "cell_type": "code",
   "execution_count": null,
   "id": "70f956e6-7767-4894-a081-4a69c3f54b42",
   "metadata": {},
   "outputs": [],
   "source": [
    "users = {'admin': 'password123','user1': 'abc456','saleh': 'password'}\n",
    "def authenticate(username, password):\n",
    "    return users.get(username) == password\n",
    "tries = 0\n",
    "max_tries = 3\n",
    "while tries < max_tries:\n",
    "    username = input(\"Enter username:\\n\")\n",
    "    password = input(\"Enter password:\\n\")\n",
    "    if authenticate(username, password):\n",
    "        print(\"Login successful!\")\n",
    "        break\n",
    "    else:\n",
    "        print(\"Wrong username or password.Try again.\")\n",
    "        tries += 1\n",
    "if tries == max_tries:\n",
    "    print(\"You Have Tried 3 Times\")\n"
   ]
  }
 ],
 "metadata": {
  "kernelspec": {
   "display_name": "Python 3 (ipykernel)",
   "language": "python",
   "name": "python3"
  },
  "language_info": {
   "codemirror_mode": {
    "name": "ipython",
    "version": 3
   },
   "file_extension": ".py",
   "mimetype": "text/x-python",
   "name": "python",
   "nbconvert_exporter": "python",
   "pygments_lexer": "ipython3",
   "version": "3.13.5"
  }
 },
 "nbformat": 4,
 "nbformat_minor": 5
}
