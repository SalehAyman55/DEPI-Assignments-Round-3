{
 "cells": [
  {
   "cell_type": "markdown",
   "metadata": {},
   "source": [
    "### Q_1: create 2D-array that contain even numbers between 0-18...??"
   ]
  },
  {
   "cell_type": "code",
   "execution_count": null,
   "metadata": {},
   "outputs": [],
   "source": [
    "import numpy as np\n",
    "an_2=np.array([[2,4,6,8],[10,12,14,18]])\n",
    "print(an_2.ndim)"
   ]
  },
  {
   "cell_type": "markdown",
   "metadata": {},
   "source": [
    "### Q_2: Replace the negative values with 0 in random array that has value in range (-6,6)"
   ]
  },
  {
   "cell_type": "code",
   "execution_count": null,
   "metadata": {},
   "outputs": [],
   "source": [
    "arr_negative=np.array([-6,-5,-4,-3,-2,-1,0,1,2,3,4,5,6])\n",
    "print(\"Before \",arr_negative)\n",
    "i=0\n",
    "while (arr_negative[i]<0) :\n",
    "    arr_negative[i]=0\n",
    "    i=i+1\n",
    "print(\"After \",arr_negative)"
   ]
  },
  {
   "cell_type": "markdown",
   "metadata": {},
   "source": [
    "### Q_3 :  How to compute ((A+B)*(-A/2)) ?  where A,B random array"
   ]
  },
  {
   "cell_type": "code",
   "execution_count": null,
   "metadata": {},
   "outputs": [],
   "source": [
    "arr1=np.random.rand(3)\n",
    "arr2=np.random.rand(3)\n",
    "print((arr1+arr2)*(-arr1/2))"
   ]
  },
  {
   "cell_type": "markdown",
   "metadata": {},
   "source": [
    "### Q_4: How to concatenate two arrays horizontally..?"
   ]
  },
  {
   "cell_type": "code",
   "execution_count": null,
   "metadata": {},
   "outputs": [],
   "source": [
    "arra=np.array([10,20,30])\n",
    "arrb=np.array([40,50,60])\n",
    "arr_concat=np.concatenate((arra,arrb),axis=0)\n",
    "print(arr_concat)"
   ]
  },
  {
   "cell_type": "markdown",
   "metadata": {},
   "source": [
    "#### Q_5: Create a array vector of size 3x3 and sort values in Its columns"
   ]
  },
  {
   "cell_type": "code",
   "execution_count": null,
   "metadata": {},
   "outputs": [],
   "source": [
    "arr_vector=np.array([[50,20,10],[60,80,40],[40,30,70]])\n",
    "print(\"Before Sorting\\n\",arr_vector)\n",
    "arr_sorted=np.sort(arr_vector,axis=0)\n",
    "print(\"==========================\")\n",
    "print(\"After Sorting\\n\",arr_sorted)"
   ]
  }
 ],
 "metadata": {
  "kernelspec": {
   "display_name": "Python 3 (ipykernel)",
   "language": "python",
   "name": "python3"
  },
  "language_info": {
   "codemirror_mode": {
    "name": "ipython",
    "version": 3
   },
   "file_extension": ".py",
   "mimetype": "text/x-python",
   "name": "python",
   "nbconvert_exporter": "python",
   "pygments_lexer": "ipython3",
   "version": "3.9.7"
  }
 },
 "nbformat": 4,
 "nbformat_minor": 4
}
