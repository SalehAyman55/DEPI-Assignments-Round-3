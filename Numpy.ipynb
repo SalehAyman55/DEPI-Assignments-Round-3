{
 "cells": [
  {
   "cell_type": "markdown",
   "metadata": {},
   "source": [
    "### Q_1: create 2D-array that contain even numbers between 0-18...??"
   ]
  },
  {
   "cell_type": "code",
   "execution_count": 1,
   "metadata": {},
   "outputs": [
    {
     "name": "stdout",
     "output_type": "stream",
     "text": [
      "2\n"
     ]
    }
   ],
   "source": [
    "import numpy as np\n",
    "an_2=np.array([[2,4,6,8],[10,12,14,18]])\n",
    "print(an_2.ndim)"
   ]
  },
  {
   "cell_type": "markdown",
   "metadata": {},
   "source": [
    "### Q_2: Replace the negative values with 0 in random array that has value in range (-6,6)"
   ]
  },
  {
   "cell_type": "code",
   "execution_count": 2,
   "metadata": {},
   "outputs": [
    {
     "name": "stdout",
     "output_type": "stream",
     "text": [
      "Before  [-6 -5 -4 -3 -2 -1  0  1  2  3  4  5  6]\n",
      "After  [0 0 0 0 0 0 0 1 2 3 4 5 6]\n"
     ]
    }
   ],
   "source": [
    "arr_negative=np.array([-6,-5,-4,-3,-2,-1,0,1,2,3,4,5,6])\n",
    "print(\"Before \",arr_negative)\n",
    "i=0\n",
    "while (arr_negative[i]<0) :\n",
    "    arr_negative[i]=0\n",
    "    i=i+1\n",
    "print(\"After \",arr_negative)"
   ]
  },
  {
   "cell_type": "markdown",
   "metadata": {},
   "source": [
    "### Q_3 :  How to compute ((A+B)*(-A/2)) ?  where A,B random array"
   ]
  },
  {
   "cell_type": "code",
   "execution_count": 14,
   "metadata": {},
   "outputs": [
    {
     "name": "stdout",
     "output_type": "stream",
     "text": [
      "[-0.31276766 -0.3215128  -0.31327089]\n"
     ]
    }
   ],
   "source": [
    "arr1=np.random.rand(3)\n",
    "arr2=np.random.rand(3)\n",
    "print((arr1+arr2)*(-arr1/2))"
   ]
  },
  {
   "cell_type": "markdown",
   "metadata": {},
   "source": [
    "### Q_4: How to concatenate two arrays horizontally..?"
   ]
  },
  {
   "cell_type": "code",
   "execution_count": 15,
   "metadata": {},
   "outputs": [
    {
     "name": "stdout",
     "output_type": "stream",
     "text": [
      "[10 20 30 40 50 60]\n"
     ]
    }
   ],
   "source": [
    "arra=np.array([10,20,30])\n",
    "arrb=np.array([40,50,60])\n",
    "arr_concat=np.concatenate((arra,arrb),axis=0)\n",
    "print(arr_concat)"
   ]
  },
  {
   "cell_type": "markdown",
   "metadata": {},
   "source": [
    "#### Q_5: Create a array vector of size 3x3 and sort values in Its columns"
   ]
  },
  {
   "cell_type": "code",
   "execution_count": 16,
   "metadata": {},
   "outputs": [
    {
     "name": "stdout",
     "output_type": "stream",
     "text": [
      "Before Sorting\n",
      " [[50 20 10]\n",
      " [60 80 40]\n",
      " [40 30 70]]\n",
      "==========================\n",
      "After Sorting\n",
      " [[40 20 10]\n",
      " [50 30 40]\n",
      " [60 80 70]]\n"
     ]
    }
   ],
   "source": [
    "arr_vector=np.array([[50,20,10],[60,80,40],[40,30,70]])\n",
    "print(\"Before Sorting\\n\",arr_vector)\n",
    "arr_sorted=np.sort(arr_vector,axis=0)\n",
    "print(\"==========================\")\n",
    "print(\"After Sorting\\n\",arr_sorted)"
   ]
  }
 ],
 "metadata": {
  "kernelspec": {
   "display_name": "Python 3 (ipykernel)",
   "language": "python",
   "name": "python3"
  },
  "language_info": {
   "codemirror_mode": {
    "name": "ipython",
    "version": 3
   },
   "file_extension": ".py",
   "mimetype": "text/x-python",
   "name": "python",
   "nbconvert_exporter": "python",
   "pygments_lexer": "ipython3",
   "version": "3.13.5"
  }
 },
 "nbformat": 4,
 "nbformat_minor": 4
}
